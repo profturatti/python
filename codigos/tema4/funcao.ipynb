{
 "cells": [
  {
   "cell_type": "code",
   "execution_count": 1,
   "metadata": {},
   "outputs": [
    {
     "name": "stdout",
     "output_type": "stream",
     "text": [
      "10.0\n"
     ]
    }
   ],
   "source": [
    "def taximetro(distancia, multiplicador=1):\n",
    "    largada = 3\n",
    "    km_rodado = 2\n",
    "    valor = (largada + distancia * \n",
    "    km_rodado) * multiplicador\n",
    "    return valor\n",
    "\n",
    "\n",
    "pagamento = taximetro(3.5)\n",
    "print(pagamento)"
   ]
  }
 ],
 "metadata": {
  "kernelspec": {
   "display_name": "Python 3",
   "language": "python",
   "name": "python3"
  },
  "language_info": {
   "codemirror_mode": {
    "name": "ipython",
    "version": 3
   },
   "file_extension": ".py",
   "mimetype": "text/x-python",
   "name": "python",
   "nbconvert_exporter": "python",
   "pygments_lexer": "ipython3",
   "version": "3.11.3"
  }
 },
 "nbformat": 4,
 "nbformat_minor": 2
}
